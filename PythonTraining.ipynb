{
  "nbformat": 4,
  "nbformat_minor": 0,
  "metadata": {
    "colab": {
      "provenance": [],
      "authorship_tag": "ABX9TyP0XsEbe6qatQUFz7aZJNwp",
      "include_colab_link": true
    },
    "kernelspec": {
      "name": "python3",
      "display_name": "Python 3"
    },
    "language_info": {
      "name": "python"
    }
  },
  "cells": [
    {
      "cell_type": "markdown",
      "metadata": {
        "id": "view-in-github",
        "colab_type": "text"
      },
      "source": [
        "<a href=\"https://colab.research.google.com/github/WayneB1986/PythonTraining/blob/main/PythonTraining.ipynb\" target=\"_parent\"><img src=\"https://colab.research.google.com/assets/colab-badge.svg\" alt=\"Open In Colab\"/></a>"
      ]
    },
    {
      "cell_type": "code",
      "execution_count": 9,
      "metadata": {
        "id": "KgHtFrpYc7mC"
      },
      "outputs": [],
      "source": [
        "work_order = {\"code\":\"R000000995\", \"description\":\"Replace, lubricate bearing, align component\", \"staff\": {\"staffMemberId\": 0, \"staffMemberCode\": \"UNKNOWN\", \"staffMemberContactDetailFullName\":\"A UNKNOWN\", \"staffMemberDefaultResourceTradeTradeId\": 0, \"staffMemberDefaultResourceTradeTradeCode\":\"UNKNOWN\", \"staffMemberDefaultResourceTradeTradeDescription\":\"UNKNOWN\"} }\n",
        "\n",
        "def get_work_order_code(work_order, code):\n",
        "  if code in work_order:\n",
        "    return work_order[code]\n",
        "  else:\n",
        "    return None\n",
        "\n",
        "def get_work_order_description(work_order, description):\n",
        "  if description in work_order:\n",
        "    return work_order[description]\n",
        "  else:\n",
        "    return None\n",
        "\n",
        "def assign_staff_member(work_order, staffMemberId):\n",
        "  if staffMemberId in work_order:\n",
        "    return work_order[staffMemberId]\n",
        "\n",
        "def process_work_order():\n",
        "    work_order_code = get_work_order_code()\n",
        "    work_order_description = get_work_order_description()\n",
        "\n",
        "    print(\"My Fake Work Order Details:\")\n",
        "    print(\"Work Order Code:\", work_order_code)\n",
        "    print(\"Work Order Description:\", work_order_description)\n",
        "    print(\"Assigned Staff Member:\", assign_staff_member)\n",
        "    print(f\"In closing, I hope this works: So the Work Order Code is {work_order_code}, and the Description should be {work_order_description}, and finally should be assigned to {assign_staff_member}\")\n",
        "\n"
      ]
    }
  ]
}